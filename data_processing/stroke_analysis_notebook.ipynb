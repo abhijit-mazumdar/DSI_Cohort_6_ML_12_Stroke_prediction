{
 "cells": [
  {
   "cell_type": "markdown",
   "id": "b3c05440",
   "metadata": {},
   "source": [
    "Stroke Dataset Analysis and Preprocessing\n",
    "Comprehensive data preprocessing pipeline with PCA and SHAP analysis"
   ]
  },
  {
   "cell_type": "code",
   "execution_count": 1,
   "id": "4f1ddbe4",
   "metadata": {},
   "outputs": [
    {
     "name": "stderr",
     "output_type": "stream",
     "text": [
      "/opt/anaconda3/envs/dsi_env/lib/python3.9/site-packages/tqdm/auto.py:21: TqdmWarning: IProgress not found. Please update jupyter and ipywidgets. See https://ipywidgets.readthedocs.io/en/stable/user_install.html\n",
      "  from .autonotebook import tqdm as notebook_tqdm\n"
     ]
    }
   ],
   "source": [
    "#%pip install imbalanced-learn\n",
    "#%pip install shap\n",
    "\n",
    "import pandas as pd\n",
    "import numpy as np\n",
    "import matplotlib.pyplot as plt\n",
    "import seaborn as sns\n",
    "from sklearn.preprocessing import StandardScaler, LabelEncoder, OneHotEncoder\n",
    "from sklearn.impute import SimpleImputer, KNNImputer\n",
    "from sklearn.decomposition import PCA\n",
    "from sklearn.model_selection import train_test_split\n",
    "from sklearn.ensemble import RandomForestClassifier\n",
    "from sklearn.linear_model import LogisticRegression\n",
    "from imblearn.over_sampling import SMOTE, ADASYN\n",
    "from imblearn.under_sampling import RandomUnderSampler\n",
    "from imblearn.combine import SMOTETomek\n",
    "import shap\n",
    "import warnings\n",
    "warnings.filterwarnings('ignore')"
   ]
  },
  {
   "cell_type": "code",
   "execution_count": 2,
   "id": "bc3a012d",
   "metadata": {},
   "outputs": [],
   "source": [
    "# Set style for better visualizations\n",
    "plt.style.use('seaborn-v0_8')\n",
    "sns.set_palette(\"husl\")"
   ]
  },
  {
   "cell_type": "code",
   "execution_count": 3,
   "id": "cd3a703c",
   "metadata": {},
   "outputs": [
    {
     "name": "stdout",
     "output_type": "stream",
     "text": [
      "All required libraries imported successfully!\n"
     ]
    }
   ],
   "source": [
    "print(\"All required libraries imported successfully!\")"
   ]
  },
  {
   "cell_type": "markdown",
   "id": "af5d4aee",
   "metadata": {},
   "source": [
    "# 1. Data Loading and Initial Exploration"
   ]
  },
  {
   "cell_type": "code",
   "execution_count": 5,
   "id": "507e99ba",
   "metadata": {},
   "outputs": [],
   "source": [
    "# Load the dataset\n",
    "df = pd.read_csv('../data/healthcare-dataset-stroke-data.csv')"
   ]
  },
  {
   "cell_type": "code",
   "execution_count": 6,
   "id": "c91ace38",
   "metadata": {},
   "outputs": [
    {
     "name": "stdout",
     "output_type": "stream",
     "text": [
      "Dataset Shape: (5110, 12)\n",
      "\n",
      "Column Names:\n",
      "['id', 'gender', 'age', 'hypertension', 'heart_disease', 'ever_married', 'work_type', 'Residence_type', 'avg_glucose_level', 'bmi', 'smoking_status', 'stroke']\n"
     ]
    }
   ],
   "source": [
    "print(\"Dataset Shape:\", df.shape)\n",
    "print(\"\\nColumn Names:\")\n",
    "print(df.columns.tolist())"
   ]
  },
  {
   "cell_type": "code",
   "execution_count": 7,
   "id": "0a1502be",
   "metadata": {},
   "outputs": [
    {
     "name": "stdout",
     "output_type": "stream",
     "text": [
      "\n",
      "First 5 rows:\n"
     ]
    },
    {
     "data": {
      "text/html": [
       "<div>\n",
       "<style scoped>\n",
       "    .dataframe tbody tr th:only-of-type {\n",
       "        vertical-align: middle;\n",
       "    }\n",
       "\n",
       "    .dataframe tbody tr th {\n",
       "        vertical-align: top;\n",
       "    }\n",
       "\n",
       "    .dataframe thead th {\n",
       "        text-align: right;\n",
       "    }\n",
       "</style>\n",
       "<table border=\"1\" class=\"dataframe\">\n",
       "  <thead>\n",
       "    <tr style=\"text-align: right;\">\n",
       "      <th></th>\n",
       "      <th>id</th>\n",
       "      <th>gender</th>\n",
       "      <th>age</th>\n",
       "      <th>hypertension</th>\n",
       "      <th>heart_disease</th>\n",
       "      <th>ever_married</th>\n",
       "      <th>work_type</th>\n",
       "      <th>Residence_type</th>\n",
       "      <th>avg_glucose_level</th>\n",
       "      <th>bmi</th>\n",
       "      <th>smoking_status</th>\n",
       "      <th>stroke</th>\n",
       "    </tr>\n",
       "  </thead>\n",
       "  <tbody>\n",
       "    <tr>\n",
       "      <th>0</th>\n",
       "      <td>9046</td>\n",
       "      <td>Male</td>\n",
       "      <td>67.0</td>\n",
       "      <td>0</td>\n",
       "      <td>1</td>\n",
       "      <td>Yes</td>\n",
       "      <td>Private</td>\n",
       "      <td>Urban</td>\n",
       "      <td>228.69</td>\n",
       "      <td>36.6</td>\n",
       "      <td>formerly smoked</td>\n",
       "      <td>1</td>\n",
       "    </tr>\n",
       "    <tr>\n",
       "      <th>1</th>\n",
       "      <td>51676</td>\n",
       "      <td>Female</td>\n",
       "      <td>61.0</td>\n",
       "      <td>0</td>\n",
       "      <td>0</td>\n",
       "      <td>Yes</td>\n",
       "      <td>Self-employed</td>\n",
       "      <td>Rural</td>\n",
       "      <td>202.21</td>\n",
       "      <td>NaN</td>\n",
       "      <td>never smoked</td>\n",
       "      <td>1</td>\n",
       "    </tr>\n",
       "    <tr>\n",
       "      <th>2</th>\n",
       "      <td>31112</td>\n",
       "      <td>Male</td>\n",
       "      <td>80.0</td>\n",
       "      <td>0</td>\n",
       "      <td>1</td>\n",
       "      <td>Yes</td>\n",
       "      <td>Private</td>\n",
       "      <td>Rural</td>\n",
       "      <td>105.92</td>\n",
       "      <td>32.5</td>\n",
       "      <td>never smoked</td>\n",
       "      <td>1</td>\n",
       "    </tr>\n",
       "    <tr>\n",
       "      <th>3</th>\n",
       "      <td>60182</td>\n",
       "      <td>Female</td>\n",
       "      <td>49.0</td>\n",
       "      <td>0</td>\n",
       "      <td>0</td>\n",
       "      <td>Yes</td>\n",
       "      <td>Private</td>\n",
       "      <td>Urban</td>\n",
       "      <td>171.23</td>\n",
       "      <td>34.4</td>\n",
       "      <td>smokes</td>\n",
       "      <td>1</td>\n",
       "    </tr>\n",
       "    <tr>\n",
       "      <th>4</th>\n",
       "      <td>1665</td>\n",
       "      <td>Female</td>\n",
       "      <td>79.0</td>\n",
       "      <td>1</td>\n",
       "      <td>0</td>\n",
       "      <td>Yes</td>\n",
       "      <td>Self-employed</td>\n",
       "      <td>Rural</td>\n",
       "      <td>174.12</td>\n",
       "      <td>24.0</td>\n",
       "      <td>never smoked</td>\n",
       "      <td>1</td>\n",
       "    </tr>\n",
       "  </tbody>\n",
       "</table>\n",
       "</div>"
      ],
      "text/plain": [
       "      id  gender   age  hypertension  heart_disease ever_married  \\\n",
       "0   9046    Male  67.0             0              1          Yes   \n",
       "1  51676  Female  61.0             0              0          Yes   \n",
       "2  31112    Male  80.0             0              1          Yes   \n",
       "3  60182  Female  49.0             0              0          Yes   \n",
       "4   1665  Female  79.0             1              0          Yes   \n",
       "\n",
       "       work_type Residence_type  avg_glucose_level   bmi   smoking_status  \\\n",
       "0        Private          Urban             228.69  36.6  formerly smoked   \n",
       "1  Self-employed          Rural             202.21   NaN     never smoked   \n",
       "2        Private          Rural             105.92  32.5     never smoked   \n",
       "3        Private          Urban             171.23  34.4           smokes   \n",
       "4  Self-employed          Rural             174.12  24.0     never smoked   \n",
       "\n",
       "   stroke  \n",
       "0       1  \n",
       "1       1  \n",
       "2       1  \n",
       "3       1  \n",
       "4       1  "
      ]
     },
     "execution_count": 7,
     "metadata": {},
     "output_type": "execute_result"
    }
   ],
   "source": [
    "print(\"\\nFirst 5 rows:\")\n",
    "df.head()"
   ]
  },
  {
   "cell_type": "code",
   "execution_count": 8,
   "id": "47b106e0",
   "metadata": {},
   "outputs": [
    {
     "name": "stdout",
     "output_type": "stream",
     "text": [
      "\n",
      "Dataset Info:\n",
      "<class 'pandas.core.frame.DataFrame'>\n",
      "RangeIndex: 5110 entries, 0 to 5109\n",
      "Data columns (total 12 columns):\n",
      " #   Column             Non-Null Count  Dtype  \n",
      "---  ------             --------------  -----  \n",
      " 0   id                 5110 non-null   int64  \n",
      " 1   gender             5110 non-null   object \n",
      " 2   age                5110 non-null   float64\n",
      " 3   hypertension       5110 non-null   int64  \n",
      " 4   heart_disease      5110 non-null   int64  \n",
      " 5   ever_married       5110 non-null   object \n",
      " 6   work_type          5110 non-null   object \n",
      " 7   Residence_type     5110 non-null   object \n",
      " 8   avg_glucose_level  5110 non-null   float64\n",
      " 9   bmi                4909 non-null   float64\n",
      " 10  smoking_status     5110 non-null   object \n",
      " 11  stroke             5110 non-null   int64  \n",
      "dtypes: float64(3), int64(4), object(5)\n",
      "memory usage: 479.2+ KB\n"
     ]
    }
   ],
   "source": [
    "# Basic info about the dataset\n",
    "print(\"\\nDataset Info:\")\n",
    "df.info()"
   ]
  },
  {
   "cell_type": "code",
   "execution_count": 9,
   "id": "9ad7df2a",
   "metadata": {},
   "outputs": [
    {
     "name": "stdout",
     "output_type": "stream",
     "text": [
      "\n",
      "Basic Statistics:\n"
     ]
    },
    {
     "data": {
      "text/html": [
       "<div>\n",
       "<style scoped>\n",
       "    .dataframe tbody tr th:only-of-type {\n",
       "        vertical-align: middle;\n",
       "    }\n",
       "\n",
       "    .dataframe tbody tr th {\n",
       "        vertical-align: top;\n",
       "    }\n",
       "\n",
       "    .dataframe thead th {\n",
       "        text-align: right;\n",
       "    }\n",
       "</style>\n",
       "<table border=\"1\" class=\"dataframe\">\n",
       "  <thead>\n",
       "    <tr style=\"text-align: right;\">\n",
       "      <th></th>\n",
       "      <th>id</th>\n",
       "      <th>age</th>\n",
       "      <th>hypertension</th>\n",
       "      <th>heart_disease</th>\n",
       "      <th>avg_glucose_level</th>\n",
       "      <th>bmi</th>\n",
       "      <th>stroke</th>\n",
       "    </tr>\n",
       "  </thead>\n",
       "  <tbody>\n",
       "    <tr>\n",
       "      <th>count</th>\n",
       "      <td>5110.000000</td>\n",
       "      <td>5110.000000</td>\n",
       "      <td>5110.000000</td>\n",
       "      <td>5110.000000</td>\n",
       "      <td>5110.000000</td>\n",
       "      <td>4909.000000</td>\n",
       "      <td>5110.000000</td>\n",
       "    </tr>\n",
       "    <tr>\n",
       "      <th>mean</th>\n",
       "      <td>36517.829354</td>\n",
       "      <td>43.226614</td>\n",
       "      <td>0.097456</td>\n",
       "      <td>0.054012</td>\n",
       "      <td>106.147677</td>\n",
       "      <td>28.893237</td>\n",
       "      <td>0.048728</td>\n",
       "    </tr>\n",
       "    <tr>\n",
       "      <th>std</th>\n",
       "      <td>21161.721625</td>\n",
       "      <td>22.612647</td>\n",
       "      <td>0.296607</td>\n",
       "      <td>0.226063</td>\n",
       "      <td>45.283560</td>\n",
       "      <td>7.854067</td>\n",
       "      <td>0.215320</td>\n",
       "    </tr>\n",
       "    <tr>\n",
       "      <th>min</th>\n",
       "      <td>67.000000</td>\n",
       "      <td>0.080000</td>\n",
       "      <td>0.000000</td>\n",
       "      <td>0.000000</td>\n",
       "      <td>55.120000</td>\n",
       "      <td>10.300000</td>\n",
       "      <td>0.000000</td>\n",
       "    </tr>\n",
       "    <tr>\n",
       "      <th>25%</th>\n",
       "      <td>17741.250000</td>\n",
       "      <td>25.000000</td>\n",
       "      <td>0.000000</td>\n",
       "      <td>0.000000</td>\n",
       "      <td>77.245000</td>\n",
       "      <td>23.500000</td>\n",
       "      <td>0.000000</td>\n",
       "    </tr>\n",
       "    <tr>\n",
       "      <th>50%</th>\n",
       "      <td>36932.000000</td>\n",
       "      <td>45.000000</td>\n",
       "      <td>0.000000</td>\n",
       "      <td>0.000000</td>\n",
       "      <td>91.885000</td>\n",
       "      <td>28.100000</td>\n",
       "      <td>0.000000</td>\n",
       "    </tr>\n",
       "    <tr>\n",
       "      <th>75%</th>\n",
       "      <td>54682.000000</td>\n",
       "      <td>61.000000</td>\n",
       "      <td>0.000000</td>\n",
       "      <td>0.000000</td>\n",
       "      <td>114.090000</td>\n",
       "      <td>33.100000</td>\n",
       "      <td>0.000000</td>\n",
       "    </tr>\n",
       "    <tr>\n",
       "      <th>max</th>\n",
       "      <td>72940.000000</td>\n",
       "      <td>82.000000</td>\n",
       "      <td>1.000000</td>\n",
       "      <td>1.000000</td>\n",
       "      <td>271.740000</td>\n",
       "      <td>97.600000</td>\n",
       "      <td>1.000000</td>\n",
       "    </tr>\n",
       "  </tbody>\n",
       "</table>\n",
       "</div>"
      ],
      "text/plain": [
       "                 id          age  hypertension  heart_disease  \\\n",
       "count   5110.000000  5110.000000   5110.000000    5110.000000   \n",
       "mean   36517.829354    43.226614      0.097456       0.054012   \n",
       "std    21161.721625    22.612647      0.296607       0.226063   \n",
       "min       67.000000     0.080000      0.000000       0.000000   \n",
       "25%    17741.250000    25.000000      0.000000       0.000000   \n",
       "50%    36932.000000    45.000000      0.000000       0.000000   \n",
       "75%    54682.000000    61.000000      0.000000       0.000000   \n",
       "max    72940.000000    82.000000      1.000000       1.000000   \n",
       "\n",
       "       avg_glucose_level          bmi       stroke  \n",
       "count        5110.000000  4909.000000  5110.000000  \n",
       "mean          106.147677    28.893237     0.048728  \n",
       "std            45.283560     7.854067     0.215320  \n",
       "min            55.120000    10.300000     0.000000  \n",
       "25%            77.245000    23.500000     0.000000  \n",
       "50%            91.885000    28.100000     0.000000  \n",
       "75%           114.090000    33.100000     0.000000  \n",
       "max           271.740000    97.600000     1.000000  "
      ]
     },
     "execution_count": 9,
     "metadata": {},
     "output_type": "execute_result"
    }
   ],
   "source": [
    "print(\"\\nBasic Statistics:\")\n",
    "df.describe()"
   ]
  },
  {
   "cell_type": "markdown",
   "id": "8b8760fd",
   "metadata": {},
   "source": [
    "# 2. Data Quality Assessment"
   ]
  },
  {
   "cell_type": "code",
   "execution_count": 10,
   "id": "a6cefab3",
   "metadata": {},
   "outputs": [
    {
     "name": "stdout",
     "output_type": "stream",
     "text": [
      "Missing Values:\n",
      "  Column  Missing_Count  Missing_Percentage\n",
      "9    bmi            201            3.933464\n"
     ]
    }
   ],
   "source": [
    "# Check for missing values\n",
    "print(\"Missing Values:\")\n",
    "missing_values = df.isnull().sum()\n",
    "missing_percent = (missing_values / len(df)) * 100\n",
    "missing_df = pd.DataFrame({\n",
    "    'Column': missing_values.index,\n",
    "    'Missing_Count': missing_values.values,\n",
    "    'Missing_Percentage': missing_percent.values\n",
    "})\n",
    "print(missing_df[missing_df['Missing_Count'] > 0])"
   ]
  },
  {
   "cell_type": "code",
   "execution_count": 11,
   "id": "9b6a8725",
   "metadata": {},
   "outputs": [
    {
     "name": "stdout",
     "output_type": "stream",
     "text": [
      "\n",
      "BMI 'N/A' values: 0\n"
     ]
    }
   ],
   "source": [
    "# Check for \"N/A\" strings in BMI column\n",
    "print(f\"\\nBMI 'N/A' values: {(df['bmi'] == 'N/A').sum()}\")"
   ]
  },
  {
   "cell_type": "code",
   "execution_count": 12,
   "id": "9067d3ff",
   "metadata": {},
   "outputs": [
    {
     "name": "stdout",
     "output_type": "stream",
     "text": [
      "\n",
      "Unique values in categorical columns:\n",
      "gender: ['Male' 'Female' 'Other']\n",
      "ever_married: ['Yes' 'No']\n",
      "work_type: ['Private' 'Self-employed' 'Govt_job' 'children' 'Never_worked']\n",
      "Residence_type: ['Urban' 'Rural']\n",
      "smoking_status: ['formerly smoked' 'never smoked' 'smokes' 'Unknown']\n"
     ]
    }
   ],
   "source": [
    "# Check unique values for categorical variables\n",
    "categorical_cols = ['gender', 'ever_married', 'work_type', 'Residence_type', 'smoking_status']\n",
    "print(\"\\nUnique values in categorical columns:\")\n",
    "for col in categorical_cols:\n",
    "    print(f\"{col}: {df[col].unique()}\")"
   ]
  },
  {
   "cell_type": "code",
   "execution_count": 13,
   "id": "60732527",
   "metadata": {},
   "outputs": [
    {
     "name": "stdout",
     "output_type": "stream",
     "text": [
      "\n",
      "Target Variable Distribution:\n",
      "stroke\n",
      "0    4861\n",
      "1     249\n",
      "Name: count, dtype: int64\n",
      "Class imbalance ratio: 19.52:1\n",
      "Positive class percentage: 4.87%\n"
     ]
    }
   ],
   "source": [
    "# Target variable distribution\n",
    "print(\"\\nTarget Variable Distribution:\")\n",
    "print(df['stroke'].value_counts())\n",
    "print(f\"Class imbalance ratio: {df['stroke'].value_counts()[0] / df['stroke'].value_counts()[1]:.2f}:1\")\n",
    "print(f\"Positive class percentage: {(df['stroke'].sum() / len(df)) * 100:.2f}%\")"
   ]
  },
  {
   "cell_type": "markdown",
   "id": "04ada13b",
   "metadata": {},
   "source": [
    "# 3. Exploratory Data Analysis"
   ]
  },
  {
   "cell_type": "code",
   "execution_count": null,
   "id": "610a541b",
   "metadata": {},
   "outputs": [],
   "source": [
    "# Create subplots for better visualization\n",
    "fig, axes = plt.subplots(2, 2, figsize=(15, 12))"
   ]
  },
  {
   "cell_type": "code",
   "execution_count": 17,
   "id": "3cd8393a",
   "metadata": {},
   "outputs": [
    {
     "data": {
      "text/plain": [
       "Text(0.5, 1.0, 'Age Distribution by Stroke Status')"
      ]
     },
     "execution_count": 17,
     "metadata": {},
     "output_type": "execute_result"
    }
   ],
   "source": [
    "# Age distribution by stroke\n",
    "sns.boxplot(data=df, x='stroke', y='age', ax=axes[0,0])\n",
    "axes[0,0].set_title('Age Distribution by Stroke Status')"
   ]
  },
  {
   "cell_type": "code",
   "execution_count": 18,
   "id": "0950aa21",
   "metadata": {},
   "outputs": [
    {
     "data": {
      "text/plain": [
       "<matplotlib.legend.Legend at 0x15ec0a6d0>"
      ]
     },
     "execution_count": 18,
     "metadata": {},
     "output_type": "execute_result"
    }
   ],
   "source": [
    "# Gender distribution by stroke\n",
    "stroke_gender = pd.crosstab(df['gender'], df['stroke'], normalize='index')\n",
    "stroke_gender.plot(kind='bar', ax=axes[0,1])\n",
    "axes[0,1].set_title('Stroke Rate by Gender')\n",
    "axes[0,1].legend(['No Stroke', 'Stroke'])"
   ]
  },
  {
   "cell_type": "code",
   "execution_count": 19,
   "id": "2d5f5792",
   "metadata": {},
   "outputs": [
    {
     "data": {
      "text/plain": [
       "<matplotlib.legend.Legend at 0x15ee6f7c0>"
      ]
     },
     "execution_count": 19,
     "metadata": {},
     "output_type": "execute_result"
    }
   ],
   "source": [
    "# Work type distribution by stroke\n",
    "stroke_work = pd.crosstab(df['work_type'], df['stroke'], normalize='index')\n",
    "stroke_work.plot(kind='bar', ax=axes[1,0], rot=45)\n",
    "axes[1,0].set_title('Stroke Rate by Work Type')\n",
    "axes[1,0].legend(['No Stroke', 'Stroke'])"
   ]
  },
  {
   "cell_type": "code",
   "execution_count": 20,
   "id": "4cf6ac00",
   "metadata": {},
   "outputs": [
    {
     "data": {
      "text/plain": [
       "<matplotlib.legend.Legend at 0x1595ad8b0>"
      ]
     },
     "execution_count": 20,
     "metadata": {},
     "output_type": "execute_result"
    }
   ],
   "source": [
    "# Smoking status distribution by stroke\n",
    "stroke_smoking = pd.crosstab(df['smoking_status'], df['stroke'], normalize='index')\n",
    "stroke_smoking.plot(kind='bar', ax=axes[1,1], rot=45)\n",
    "axes[1,1].set_title('Stroke Rate by Smoking Status')\n",
    "axes[1,1].legend(['No Stroke', 'Stroke'])"
   ]
  },
  {
   "cell_type": "code",
   "execution_count": 22,
   "id": "8d129f77",
   "metadata": {},
   "outputs": [
    {
     "data": {
      "text/plain": [
       "<Figure size 800x550 with 0 Axes>"
      ]
     },
     "metadata": {},
     "output_type": "display_data"
    }
   ],
   "source": [
    "plt.tight_layout()\n",
    "plt.show()"
   ]
  },
  {
   "cell_type": "code",
   "execution_count": 23,
   "id": "70f396e1",
   "metadata": {},
   "outputs": [],
   "source": [
    "# Correlation matrix for numerical variables\n",
    "numerical_cols = ['age', 'hypertension', 'heart_disease', 'avg_glucose_level', 'stroke']\n",
    "df_numerical = df[numerical_cols].copy()"
   ]
  },
  {
   "cell_type": "code",
   "execution_count": 24,
   "id": "3ba71b74",
   "metadata": {},
   "outputs": [],
   "source": [
    "# Convert BMI to numerical, handling 'N/A' values\n",
    "df_numerical['bmi'] = pd.to_numeric(df['bmi'], errors='coerce')"
   ]
  },
  {
   "cell_type": "code",
   "execution_count": 25,
   "id": "6df75340",
   "metadata": {},
   "outputs": [
    {
     "data": {
      "image/png": "[encoded data removed]",
      "text/plain": [
       "<Figure size 1000x800 with 2 Axes>"
      ]
     },
     "metadata": {},
     "output_type": "display_data"
    }
   ],
   "source": [
    "plt.figure(figsize=(10, 8))\n",
    "correlation_matrix = df_numerical.corr()\n",
    "sns.heatmap(correlation_matrix, annot=True, cmap='coolwarm', center=0)\n",
    "plt.title('Correlation Matrix of Numerical Variables')\n",
    "plt.show()"
   ]
  },
  {
   "cell_type": "markdown",
   "id": "b241c0c8",
   "metadata": {},
   "source": [
    "# 4. Data Cleaning and Preprocessing"
   ]
  },
  {
   "cell_type": "code",
   "execution_count": 26,
   "id": "e60873fd",
   "metadata": {},
   "outputs": [],
   "source": [
    "# Create a copy for preprocessing\n",
    "df_clean = df.copy()"
   ]
  },
  {
   "cell_type": "code",
   "execution_count": 27,
   "id": "faeca80f",
   "metadata": {},
   "outputs": [],
   "source": [
    "# Handle BMI 'N/A' values - convert to NaN for proper imputation\n",
    "df_clean['bmi'] = pd.to_numeric(df_clean['bmi'], errors='coerce')"
   ]
  },
  {
   "cell_type": "code",
   "execution_count": 28,
   "id": "1f8b5e72",
   "metadata": {},
   "outputs": [
    {
     "name": "stdout",
     "output_type": "stream",
     "text": [
      "BMI missing values after conversion: 201\n"
     ]
    }
   ],
   "source": [
    "print(f\"BMI missing values after conversion: {df_clean['bmi'].isnull().sum()}\")"
   ]
  },
  {
   "cell_type": "code",
   "execution_count": 29,
   "id": "a300ae68",
   "metadata": {},
   "outputs": [],
   "source": [
    "# Drop ID column as it's not useful for prediction\n",
    "df_clean = df_clean.drop('id', axis=1)"
   ]
  },
  {
   "cell_type": "code",
   "execution_count": 30,
   "id": "89796427",
   "metadata": {},
   "outputs": [],
   "source": [
    "# Separate features and target\n",
    "X = df_clean.drop('stroke', axis=1)\n",
    "y = df_clean['stroke']"
   ]
  },
  {
   "cell_type": "code",
   "execution_count": 31,
   "id": "158eb24e",
   "metadata": {},
   "outputs": [],
   "source": [
    "# Identify categorical and numerical columns\n",
    "categorical_features = ['gender', 'ever_married', 'work_type', 'Residence_type', 'smoking_status']\n",
    "numerical_features = ['age', 'hypertension', 'heart_disease', 'avg_glucose_level', 'bmi']"
   ]
  },
  {
   "cell_type": "code",
   "execution_count": 32,
   "id": "c5e66b6e",
   "metadata": {},
   "outputs": [
    {
     "name": "stdout",
     "output_type": "stream",
     "text": [
      "Categorical features: ['gender', 'ever_married', 'work_type', 'Residence_type', 'smoking_status']\n",
      "Numerical features: ['age', 'hypertension', 'heart_disease', 'avg_glucose_level', 'bmi']\n"
     ]
    }
   ],
   "source": [
    "print(\"Categorical features:\", categorical_features)\n",
    "print(\"Numerical features:\", numerical_features)"
   ]
  },
  {
   "cell_type": "markdown",
   "id": "e1ab0e62",
   "metadata": {},
   "source": [
    "# 5. Missing Value Imputation"
   ]
  },
  {
   "cell_type": "code",
   "execution_count": 33,
   "id": "b7cc6a06",
   "metadata": {},
   "outputs": [],
   "source": [
    "# For numerical features, use KNN imputation\n",
    "numerical_imputer = KNNImputer(n_neighbors=5)\n",
    "X_numerical = X[numerical_features].copy()\n",
    "X_numerical_imputed = numerical_imputer.fit_transform(X_numerical)\n",
    "X_numerical_imputed = pd.DataFrame(X_numerical_imputed, columns=numerical_features, index=X.index)"
   ]
  },
  {
   "cell_type": "code",
   "execution_count": 34,
   "id": "318fbf1d",
   "metadata": {},
   "outputs": [],
   "source": [
    "# For categorical features, use mode imputation\n",
    "categorical_imputer = SimpleImputer(strategy='most_frequent')\n",
    "X_categorical = X[categorical_features].copy()\n",
    "X_categorical_imputed = categorical_imputer.fit_transform(X_categorical)\n",
    "X_categorical_imputed = pd.DataFrame(X_categorical_imputed, columns=categorical_features, index=X.index)"
   ]
  },
  {
   "cell_type": "code",
   "execution_count": 35,
   "id": "90d36e4a",
   "metadata": {
    "lines_to_next_cell": 1
   },
   "outputs": [
    {
     "name": "stdout",
     "output_type": "stream",
     "text": [
      "Missing values after imputation:\n",
      "Numerical: 0\n",
      "Categorical: 0\n"
     ]
    }
   ],
   "source": [
    "print(\"Missing values after imputation:\")\n",
    "print(\"Numerical:\", X_numerical_imputed.isnull().sum().sum())\n",
    "print(\"Categorical:\", X_categorical_imputed.isnull().sum().sum())"
   ]
  },
  {
   "cell_type": "markdown",
   "id": "c63349dc",
   "metadata": {},
   "source": [
    "# 6. Feature Engineering"
   ]
  },
  {
   "cell_type": "code",
   "execution_count": 36,
   "id": "68ac7b8f",
   "metadata": {
    "lines_to_next_cell": 1
   },
   "outputs": [],
   "source": [
    "# Create age groups\n",
    "def categorize_age(age):\n",
    "    if age < 18:\n",
    "        return 'Child'\n",
    "    elif age < 35:\n",
    "        return 'Young Adult'\n",
    "    elif age < 55:\n",
    "        return 'Middle-aged'\n",
    "    elif age < 75:\n",
    "        return 'Senior'\n",
    "    else:\n",
    "        return 'Elderly'"
   ]
  },
  {
   "cell_type": "code",
   "execution_count": 37,
   "id": "54e14899",
   "metadata": {
    "lines_to_next_cell": 1
   },
   "outputs": [],
   "source": [
    "X_numerical_imputed['age_group'] = X_numerical_imputed['age'].apply(categorize_age)"
   ]
  },
  {
   "cell_type": "code",
   "execution_count": 38,
   "id": "d209b0ce",
   "metadata": {
    "lines_to_next_cell": 1
   },
   "outputs": [],
   "source": [
    "# Create BMI categories\n",
    "def categorize_bmi(bmi):\n",
    "    if bmi < 18.5:\n",
    "        return 'Underweight'\n",
    "    elif bmi < 25:\n",
    "        return 'Normal'\n",
    "    elif bmi < 30:\n",
    "        return 'Overweight'\n",
    "    else:\n",
    "        return 'Obese'"
   ]
  },
  {
   "cell_type": "code",
   "execution_count": 39,
   "id": "82ae8f00",
   "metadata": {
    "lines_to_next_cell": 1
   },
   "outputs": [],
   "source": [
    "X_numerical_imputed['bmi_category'] = X_numerical_imputed['bmi'].apply(categorize_bmi)"
   ]
  },
  {
   "cell_type": "code",
   "execution_count": 40,
   "id": "3188c8cb",
   "metadata": {
    "lines_to_next_cell": 1
   },
   "outputs": [],
   "source": [
    "# Create glucose level categories\n",
    "def categorize_glucose(glucose):\n",
    "    if glucose < 100:\n",
    "        return 'Normal'\n",
    "    elif glucose < 126:\n",
    "        return 'Prediabetic'\n",
    "    else:\n",
    "        return 'Diabetic'"
   ]
  },
  {
   "cell_type": "code",
   "execution_count": 41,
   "id": "b271f0cb",
   "metadata": {},
   "outputs": [],
   "source": [
    "X_numerical_imputed['glucose_category'] = X_numerical_imputed['avg_glucose_level'].apply(categorize_glucose)"
   ]
  },
  {
   "cell_type": "code",
   "execution_count": 42,
   "id": "7a81f827",
   "metadata": {},
   "outputs": [],
   "source": [
    "# Create health risk score\n",
    "X_numerical_imputed['health_risk_score'] = (\n",
    "    X_numerical_imputed['hypertension'] + \n",
    "    X_numerical_imputed['heart_disease'] + \n",
    "    (X_numerical_imputed['avg_glucose_level'] > 125).astype(int) +\n",
    "    (X_numerical_imputed['bmi'] > 30).astype(int)\n",
    ")"
   ]
  },
  {
   "cell_type": "code",
   "execution_count": 43,
   "id": "442f4b12",
   "metadata": {},
   "outputs": [
    {
     "name": "stdout",
     "output_type": "stream",
     "text": [
      "New engineered features created:\n",
      "- age_group\n",
      "- bmi_category\n",
      "- glucose_category\n",
      "- health_risk_score\n"
     ]
    }
   ],
   "source": [
    "print(\"New engineered features created:\")\n",
    "print(\"- age_group\")\n",
    "print(\"- bmi_category\") \n",
    "print(\"- glucose_category\")\n",
    "print(\"- health_risk_score\")"
   ]
  },
  {
   "cell_type": "markdown",
   "id": "2cc91be2",
   "metadata": {},
   "source": [
    "# 7. Encoding Categorical Variables"
   ]
  },
  {
   "cell_type": "code",
   "execution_count": 44,
   "id": "b988ae8b",
   "metadata": {},
   "outputs": [],
   "source": [
    "# Combine all categorical features (original + engineered)\n",
    "new_categorical_features = ['age_group', 'bmi_category', 'glucose_category']\n",
    "all_categorical_features = categorical_features + new_categorical_features"
   ]
  },
  {
   "cell_type": "code",
   "execution_count": 45,
   "id": "0936dc12",
   "metadata": {},
   "outputs": [],
   "source": [
    "# Prepare categorical data\n",
    "X_categorical_all = pd.concat([\n",
    "    X_categorical_imputed,\n",
    "    X_numerical_imputed[new_categorical_features]\n",
    "], axis=1)"
   ]
  },
  {
   "cell_type": "code",
   "execution_count": 46,
   "id": "8c15686d",
   "metadata": {},
   "outputs": [],
   "source": [
    "# One-hot encode categorical variables\n",
    "encoder = OneHotEncoder(sparse_output=False, handle_unknown='ignore')\n",
    "X_categorical_encoded = encoder.fit_transform(X_categorical_all)"
   ]
  },
  {
   "cell_type": "code",
   "execution_count": 47,
   "id": "e481bc27",
   "metadata": {},
   "outputs": [],
   "source": [
    "# Get feature names after encoding\n",
    "encoded_feature_names = encoder.get_feature_names_out(all_categorical_features)\n",
    "X_categorical_encoded = pd.DataFrame(X_categorical_encoded, columns=encoded_feature_names, index=X.index)"
   ]
  },
  {
   "cell_type": "code",
   "execution_count": 48,
   "id": "9adc568b",
   "metadata": {},
   "outputs": [
    {
     "name": "stdout",
     "output_type": "stream",
     "text": [
      "Categorical features after encoding: 28 features\n"
     ]
    }
   ],
   "source": [
    "print(f\"Categorical features after encoding: {X_categorical_encoded.shape[1]} features\")"
   ]
  },
  {
   "cell_type": "markdown",
   "id": "b84e8672",
   "metadata": {},
   "source": [
    "# 8. Feature Scaling"
   ]
  },
  {
   "cell_type": "code",
   "execution_count": 49,
   "id": "42213431",
   "metadata": {},
   "outputs": [],
   "source": [
    "# Combine numerical features (excluding the ones used for creating categories)\n",
    "numerical_features_final = ['age', 'hypertension', 'heart_disease', 'avg_glucose_level', 'bmi', 'health_risk_score']\n",
    "X_numerical_final = X_numerical_imputed[numerical_features_final]"
   ]
  },
  {
   "cell_type": "code",
   "execution_count": 50,
   "id": "16a6c46a",
   "metadata": {},
   "outputs": [],
   "source": [
    "# Scale numerical features\n",
    "scaler = StandardScaler()\n",
    "X_numerical_scaled = scaler.fit_transform(X_numerical_final)\n",
    "X_numerical_scaled = pd.DataFrame(X_numerical_scaled, columns=numerical_features_final, index=X.index)"
   ]
  },
  {
   "cell_type": "code",
   "execution_count": 51,
   "id": "2bdcfa58",
   "metadata": {},
   "outputs": [],
   "source": [
    "# Combine all processed features\n",
    "X_processed = pd.concat([X_numerical_scaled, X_categorical_encoded], axis=1)"
   ]
  },
  {
   "cell_type": "code",
   "execution_count": 52,
   "id": "be763c1d",
   "metadata": {},
   "outputs": [
    {
     "name": "stdout",
     "output_type": "stream",
     "text": [
      "Final processed dataset shape: (5110, 34)\n",
      "Total features: 34\n"
     ]
    }
   ],
   "source": [
    "print(f\"Final processed dataset shape: {X_processed.shape}\")\n",
    "print(f\"Total features: {X_processed.shape[1]}\")"
   ]
  },
  {
   "cell_type": "markdown",
   "id": "f34bcfc5",
   "metadata": {},
   "source": [
    "# 9. Handle Class Imbalance"
   ]
  },
  {
   "cell_type": "code",
   "execution_count": 53,
   "id": "14b43978",
   "metadata": {},
   "outputs": [],
   "source": [
    "# Split data first\n",
    "X_train, X_test, y_train, y_test = train_test_split(\n",
    "    X_processed, y, test_size=0.2, random_state=42, stratify=y\n",
    ")"
   ]
  },
  {
   "cell_type": "code",
   "execution_count": 54,
   "id": "484038c8",
   "metadata": {},
   "outputs": [
    {
     "name": "stdout",
     "output_type": "stream",
     "text": [
      "Original class distribution in training set:\n",
      "stroke\n",
      "0    3889\n",
      "1     199\n",
      "Name: count, dtype: int64\n"
     ]
    }
   ],
   "source": [
    "print(\"Original class distribution in training set:\")\n",
    "print(y_train.value_counts())"
   ]
  },
  {
   "cell_type": "code",
   "execution_count": 55,
   "id": "f5a67419",
   "metadata": {},
   "outputs": [],
   "source": [
    "# Apply different resampling techniques\n",
    "resampling_techniques = {}"
   ]
  },
  {
   "cell_type": "code",
   "execution_count": 56,
   "id": "a09cd494",
   "metadata": {},
   "outputs": [],
   "source": [
    "# 1. SMOTE\n",
    "smote = SMOTE(random_state=42)\n",
    "X_train_smote, y_train_smote = smote.fit_resample(X_train, y_train)\n",
    "resampling_techniques['SMOTE'] = (X_train_smote, y_train_smote)"
   ]
  },
  {
   "cell_type": "code",
   "execution_count": 57,
   "id": "b26ca01b",
   "metadata": {},
   "outputs": [],
   "source": [
    "# 2. ADASYN\n",
    "adasyn = ADASYN(random_state=42)\n",
    "X_train_adasyn, y_train_adasyn = adasyn.fit_resample(X_train, y_train)\n",
    "resampling_techniques['ADASYN'] = (X_train_adasyn, y_train_adasyn)"
   ]
  },
  {
   "cell_type": "code",
   "execution_count": 58,
   "id": "a9a64181",
   "metadata": {},
   "outputs": [],
   "source": [
    "# 3. SMOTETomek (combination)\n",
    "smotetomek = SMOTETomek(random_state=42)\n",
    "X_train_smotetomek, y_train_smotetomek = smotetomek.fit_resample(X_train, y_train)\n",
    "resampling_techniques['SMOTETomek'] = (X_train_smotetomek, y_train_smotetomek)"
   ]
  },
  {
   "cell_type": "code",
   "execution_count": 59,
   "id": "7b489f94",
   "metadata": {},
   "outputs": [],
   "source": [
    "# 4. Random Under Sampling\n",
    "rus = RandomUnderSampler(random_state=42)\n",
    "X_train_rus, y_train_rus = rus.fit_resample(X_train, y_train)\n",
    "resampling_techniques['UnderSampling'] = (X_train_rus, y_train_rus)"
   ]
  },
  {
   "cell_type": "code",
   "execution_count": 60,
   "id": "4725099d",
   "metadata": {},
   "outputs": [
    {
     "name": "stdout",
     "output_type": "stream",
     "text": [
      "\n",
      "Class distribution after resampling:\n",
      "SMOTE: {0: 3889, 1: 3889}\n",
      "ADASYN: {1: 3913, 0: 3889}\n",
      "SMOTETomek: {0: 3887, 1: 3887}\n",
      "UnderSampling: {0: 199, 1: 199}\n"
     ]
    }
   ],
   "source": [
    "print(\"\\nClass distribution after resampling:\")\n",
    "for technique, (X_resampled, y_resampled) in resampling_techniques.items():\n",
    "    print(f\"{technique}: {y_resampled.value_counts().to_dict()}\")"
   ]
  },
  {
   "cell_type": "markdown",
   "id": "09169e16",
   "metadata": {},
   "source": [
    "# 10. Principal Component Analysis (PCA)"
   ]
  },
  {
   "cell_type": "code",
   "execution_count": 61,
   "id": "3be0a561",
   "metadata": {},
   "outputs": [],
   "source": [
    "# Apply PCA to reduce dimensionality\n",
    "pca = PCA()\n",
    "X_train_pca = pca.fit_transform(X_train_smote)  # Using SMOTE-resampled data"
   ]
  },
  {
   "cell_type": "code",
   "execution_count": 62,
   "id": "c1263fb3",
   "metadata": {},
   "outputs": [],
   "source": [
    "# Calculate cumulative variance explained\n",
    "cumulative_variance = np.cumsum(pca.explained_variance_ratio_)"
   ]
  },
  {
   "cell_type": "code",
   "execution_count": 63,
   "id": "91eaf822",
   "metadata": {},
   "outputs": [
    {
     "name": "stdout",
     "output_type": "stream",
     "text": [
      "Number of components to explain 95% variance: 15\n"
     ]
    }
   ],
   "source": [
    "# Find number of components for 95% variance\n",
    "n_components_95 = np.argmax(cumulative_variance >= 0.95) + 1\n",
    "print(f\"Number of components to explain 95% variance: {n_components_95}\")"
   ]
  },
  {
   "cell_type": "code",
   "execution_count": null,
   "id": "fca3f465",
   "metadata": {},
   "outputs": [],
   "source": [
    "# Plot PCA analysis \n",
    "fig, axes = plt.subplots(1, 2, figsize=(15, 6))"
   ]
  },
  {
   "cell_type": "code",
   "execution_count": 65,
   "id": "bbf2a289",
   "metadata": {},
   "outputs": [],
   "source": [
    "# Scree plot\n",
    "axes[0].plot(range(1, len(cumulative_variance) + 1), cumulative_variance, 'bo-')\n",
    "axes[0].axhline(y=0.95, color='r', linestyle='--', label='95% Variance')\n",
    "axes[0].axvline(x=n_components_95, color='r', linestyle='--')\n",
    "axes[0].set_xlabel('Number of Components')\n",
    "axes[0].set_ylabel('Cumulative Variance Explained')\n",
    "axes[0].set_title('PCA: Cumulative Variance Explained')\n",
    "axes[0].legend()\n",
    "axes[0].grid(True)"
   ]
  },
  {
   "cell_type": "code",
   "execution_count": 66,
   "id": "01eb4e51",
   "metadata": {},
   "outputs": [],
   "source": [
    "# Individual component variance\n",
    "axes[1].bar(range(1, min(21, len(pca.explained_variance_ratio_) + 1)), \n",
    "           pca.explained_variance_ratio_[:20])\n",
    "axes[1].set_xlabel('Principal Component')\n",
    "axes[1].set_ylabel('Variance Explained')\n",
    "axes[1].set_title('Individual Component Variance (First 20)')\n",
    "axes[1].grid(True)"
   ]
  },
  {
   "cell_type": "code",
   "execution_count": 68,
   "id": "f65b8d97",
   "metadata": {},
   "outputs": [
    {
     "data": {
      "text/plain": [
       "<Figure size 800x550 with 0 Axes>"
      ]
     },
     "metadata": {},
     "output_type": "display_data"
    }
   ],
   "source": [
    "plt.tight_layout()\n",
    "plt.show()"
   ]
  },
  {
   "cell_type": "code",
   "execution_count": 70,
   "id": "c6b16f5f",
   "metadata": {},
   "outputs": [],
   "source": [
    "# Apply PCA with optimal number of components\n",
    "pca_optimal = PCA(n_components=n_components_95)\n",
    "X_train_pca_optimal = pca_optimal.fit_transform(X_train_smote)\n",
    "X_test_pca_optimal = pca_optimal.transform(X_test)"
   ]
  },
  {
   "cell_type": "code",
   "execution_count": 71,
   "id": "438f94d1",
   "metadata": {},
   "outputs": [
    {
     "name": "stdout",
     "output_type": "stream",
     "text": [
      "Original feature space: 34 dimensions\n",
      "Reduced feature space: 15 dimensions\n",
      "Variance retained: 0.9592\n"
     ]
    }
   ],
   "source": [
    "print(f\"Original feature space: {X_train_smote.shape[1]} dimensions\")\n",
    "print(f\"Reduced feature space: {X_train_pca_optimal.shape[1]} dimensions\")\n",
    "print(f\"Variance retained: {pca_optimal.explained_variance_ratio_.sum():.4f}\")"
   ]
  },
  {
   "cell_type": "markdown",
   "id": "bc17aa66",
   "metadata": {},
   "source": [
    "# 11. Feature Importance Analysis with Multiple Models"
   ]
  },
  {
   "cell_type": "code",
   "execution_count": 72,
   "id": "cb8bab9a",
   "metadata": {},
   "outputs": [],
   "source": [
    "# Train multiple models for feature importance analysis\n",
    "models = {\n",
    "    'Random Forest': RandomForestClassifier(n_estimators=100, random_state=42),\n",
    "    'Logistic Regression': LogisticRegression(random_state=42, max_iter=1000)\n",
    "}"
   ]
  },
  {
   "cell_type": "code",
   "execution_count": 73,
   "id": "c6a872cc",
   "metadata": {},
   "outputs": [],
   "source": [
    "feature_importance_results = {}"
   ]
  },
  {
   "cell_type": "code",
   "execution_count": 74,
   "id": "0eae0785",
   "metadata": {},
   "outputs": [
    {
     "name": "stdout",
     "output_type": "stream",
     "text": [
      "\n",
      "Training Random Forest...\n"
     ]
    },
    {
     "data": {
      "image/png": "[encoded data removed]",
      "text/plain": [
       "<Figure size 1200x800 with 1 Axes>"
      ]
     },
     "metadata": {},
     "output_type": "display_data"
    },
    {
     "name": "stdout",
     "output_type": "stream",
     "text": [
      "Top 10 features for Random Forest:\n",
      "                           feature  importance\n",
      "0                              age    0.202569\n",
      "25                age_group_Senior    0.071645\n",
      "23               age_group_Elderly    0.066577\n",
      "3                avg_glucose_level    0.054229\n",
      "4                              bmi    0.048818\n",
      "13               work_type_Private    0.038887\n",
      "10                ever_married_Yes    0.034562\n",
      "20     smoking_status_never smoked    0.034204\n",
      "24           age_group_Middle-aged    0.032728\n",
      "19  smoking_status_formerly smoked    0.032646\n",
      "\n",
      "Training Logistic Regression...\n"
     ]
    },
    {
     "data": {
      "image/png": "[encoded data removed]",
      "text/plain": [
       "<Figure size 1200x800 with 1 Axes>"
      ]
     },
     "metadata": {},
     "output_type": "display_data"
    },
    {
     "name": "stdout",
     "output_type": "stream",
     "text": [
      "Top 10 features for Logistic Regression:\n",
      "                         feature  importance\n",
      "26         age_group_Young Adult    2.423560\n",
      "0                            age    2.100850\n",
      "15            work_type_children    0.937012\n",
      "31     glucose_category_Diabetic    0.867152\n",
      "28            bmi_category_Obese    0.774751\n",
      "24         age_group_Middle-aged    0.756095\n",
      "25              age_group_Senior    0.748703\n",
      "5              health_risk_score    0.721712\n",
      "33  glucose_category_Prediabetic    0.662587\n",
      "14       work_type_Self-employed    0.638157\n"
     ]
    }
   ],
   "source": [
    "for name, model in models.items():\n",
    "    print(f\"\\nTraining {name}...\")\n",
    "    model.fit(X_train_smote, y_train_smote)\n",
    "    \n",
    "    if hasattr(model, 'feature_importances_'):\n",
    "        importance = model.feature_importances_\n",
    "    elif hasattr(model, 'coef_'):\n",
    "        importance = np.abs(model.coef_[0])\n",
    "    else:\n",
    "        continue\n",
    "    \n",
    "    # Create feature importance dataframe\n",
    "    feature_names = X_processed.columns\n",
    "    importance_df = pd.DataFrame({\n",
    "        'feature': feature_names,\n",
    "        'importance': importance\n",
    "    }).sort_values('importance', ascending=False)\n",
    "    \n",
    "    feature_importance_results[name] = importance_df\n",
    "    \n",
    "    # Plot top 15 features\n",
    "    plt.figure(figsize=(12, 8))\n",
    "    top_features = importance_df.head(15)\n",
    "    sns.barplot(data=top_features, x='importance', y='feature')\n",
    "    plt.title(f'Top 15 Feature Importance - {name}')\n",
    "    plt.xlabel('Importance')\n",
    "    plt.tight_layout()\n",
    "    plt.show()\n",
    "    \n",
    "    print(f\"Top 10 features for {name}:\")\n",
    "    print(importance_df.head(10))"
   ]
  },
  {
   "cell_type": "markdown",
   "id": "7a614044",
   "metadata": {},
   "source": [
    "# 12. SHAP Analysis"
   ]
  },
  {
   "cell_type": "code",
   "execution_count": 75,
   "id": "0ba04e6f",
   "metadata": {},
   "outputs": [
    {
     "name": "stdout",
     "output_type": "stream",
     "text": [
      "Performing SHAP analysis...\n"
     ]
    }
   ],
   "source": [
    "print(\"Performing SHAP analysis...\")"
   ]
  },
  {
   "cell_type": "code",
   "execution_count": 76,
   "id": "f6d303fa",
   "metadata": {},
   "outputs": [],
   "source": [
    "# Use a smaller sample for SHAP analysis to speed up computation\n",
    "sample_size = min(1000, len(X_train_smote))\n",
    "sample_indices = np.random.choice(len(X_train_smote), sample_size, replace=False)\n",
    "X_shap_sample = X_train_smote.iloc[sample_indices]\n",
    "y_shap_sample = y_train_smote.iloc[sample_indices]"
   ]
  },
  {
   "cell_type": "code",
   "execution_count": 77,
   "id": "488e17f3",
   "metadata": {},
   "outputs": [
    {
     "data": {
      "text/html": [
       "<style>#sk-container-id-1 {\n",
       "  /* Definition of color scheme common for light and dark mode */\n",
       "  --sklearn-color-text: #000;\n",
       "  --sklearn-color-text-muted: #666;\n",
       "  --sklearn-color-line: gray;\n",
       "  /* Definition of color scheme for unfitted estimators */\n",
       "  --sklearn-color-unfitted-level-0: #fff5e6;\n",
       "  --sklearn-color-unfitted-level-1: #f6e4d2;\n",
       "  --sklearn-color-unfitted-level-2: #ffe0b3;\n",
       "  --sklearn-color-unfitted-level-3: chocolate;\n",
       "  /* Definition of color scheme for fitted estimators */\n",
       "  --sklearn-color-fitted-level-0: #f0f8ff;\n",
       "  --sklearn-color-fitted-level-1: #d4ebff;\n",
       "  --sklearn-color-fitted-level-2: #b3dbfd;\n",
       "  --sklearn-color-fitted-level-3: cornflowerblue;\n",
       "\n",
       "  /* Specific color for light theme */\n",
       "  --sklearn-color-text-on-default-background: var(--sg-text-color, var(--theme-code-foreground, var(--jp-content-font-color1, black)));\n",
       "  --sklearn-color-background: var(--sg-background-color, var(--theme-background, var(--jp-layout-color0, white)));\n",
       "  --sklearn-color-border-box: var(--sg-text-color, var(--theme-code-foreground, var(--jp-content-font-color1, black)));\n",
       "  --sklearn-color-icon: #696969;\n",
       "\n",
       "  @media (prefers-color-scheme: dark) {\n",
       "    /* Redefinition of color scheme for dark theme */\n",
       "    --sklearn-color-text-on-default-background: var(--sg-text-color, var(--theme-code-foreground, var(--jp-content-font-color1, white)));\n",
       "    --sklearn-color-background: var(--sg-background-color, var(--theme-background, var(--jp-layout-color0, #111)));\n",
       "    --sklearn-color-border-box: var(--sg-text-color, var(--theme-code-foreground, var(--jp-content-font-color1, white)));\n",
       "    --sklearn-color-icon: #878787;\n",
       "  }\n",
       "}\n",
       "\n",
       "#sk-container-id-1 {\n",
       "  color: var(--sklearn-color-text);\n",
       "}\n",
       "\n",
       "#sk-container-id-1 pre {\n",
       "  padding: 0;\n",
       "}\n",
       "\n",
       "#sk-container-id-1 input.sk-hidden--visually {\n",
       "  border: 0;\n",
       "  clip: rect(1px 1px 1px 1px);\n",
       "  clip: rect(1px, 1px, 1px, 1px);\n",
       "  height: 1px;\n",
       "  margin: -1px;\n",
       "  overflow: hidden;\n",
       "  padding: 0;\n",
       "  position: absolute;\n",
       "  width: 1px;\n",
       "}\n",
       "\n",
       "#sk-container-id-1 div.sk-dashed-wrapped {\n",
       "  border: 1px dashed var(--sklearn-color-line);\n",
       "  margin: 0 0.4em 0.5em 0.4em;\n",
       "  box-sizing: border-box;\n",
       "  padding-bottom: 0.4em;\n",
       "  background-color: var(--sklearn-color-background);\n",
       "}\n",
       "\n",
       "#sk-container-id-1 div.sk-container {\n",
       "  /* jupyter's `normalize.less` sets `[hidden] { display: none; }`\n",
       "     but bootstrap.min.css set `[hidden] { display: none !important; }`\n",
       "     so we also need the `!important` here to be able to override the\n",
       "     default hidden behavior on the sphinx rendered scikit-learn.org.\n",
       "     See: https://github.com/scikit-learn/scikit-learn/issues/21755 */\n",
       "  display: inline-block !important;\n",
       "  position: relative;\n",
       "}\n",
       "\n",
       "#sk-container-id-1 div.sk-text-repr-fallback {\n",
       "  display: none;\n",
       "}\n",
       "\n",
       "div.sk-parallel-item,\n",
       "div.sk-serial,\n",
       "div.sk-item {\n",
       "  /* draw centered vertical line to link estimators */\n",
       "  background-image: linear-gradient(var(--sklearn-color-text-on-default-background), var(--sklearn-color-text-on-default-background));\n",
       "  background-size: 2px 100%;\n",
       "  background-repeat: no-repeat;\n",
       "  background-position: center center;\n",
       "}\n",
       "\n",
       "/* Parallel-specific style estimator block */\n",
       "\n",
       "#sk-container-id-1 div.sk-parallel-item::after {\n",
       "  content: \"\";\n",
       "  width: 100%;\n",
       "  border-bottom: 2px solid var(--sklearn-color-text-on-default-background);\n",
       "  flex-grow: 1;\n",
       "}\n",
       "\n",
       "#sk-container-id-1 div.sk-parallel {\n",
       "  display: flex;\n",
       "  align-items: stretch;\n",
       "  justify-content: center;\n",
       "  background-color: var(--sklearn-color-background);\n",
       "  position: relative;\n",
       "}\n",
       "\n",
       "#sk-container-id-1 div.sk-parallel-item {\n",
       "  display: flex;\n",
       "  flex-direction: column;\n",
       "}\n",
       "\n",
       "#sk-container-id-1 div.sk-parallel-item:first-child::after {\n",
       "  align-self: flex-end;\n",
       "  width: 50%;\n",
       "}\n",
       "\n",
       "#sk-container-id-1 div.sk-parallel-item:last-child::after {\n",
       "  align-self: flex-start;\n",
       "  width: 50%;\n",
       "}\n",
       "\n",
       "#sk-container-id-1 div.sk-parallel-item:only-child::after {\n",
       "  width: 0;\n",
       "}\n",
       "\n",
       "/* Serial-specific style estimator block */\n",
       "\n",
       "#sk-container-id-1 div.sk-serial {\n",
       "  display: flex;\n",
       "  flex-direction: column;\n",
       "  align-items: center;\n",
       "  background-color: var(--sklearn-color-background);\n",
       "  padding-right: 1em;\n",
       "  padding-left: 1em;\n",
       "}\n",
       "\n",
       "\n",
       "/* Toggleable style: style used for estimator/Pipeline/ColumnTransformer box that is\n",
       "clickable and can be expanded/collapsed.\n",
       "- Pipeline and ColumnTransformer use this feature and define the default style\n",
       "- Estimators will overwrite some part of the style using the `sk-estimator` class\n",
       "*/\n",
       "\n",
       "/* Pipeline and ColumnTransformer style (default) */\n",
       "\n",
       "#sk-container-id-1 div.sk-toggleable {\n",
       "  /* Default theme specific background. It is overwritten whether we have a\n",
       "  specific estimator or a Pipeline/ColumnTransformer */\n",
       "  background-color: var(--sklearn-color-background);\n",
       "}\n",
       "\n",
       "/* Toggleable label */\n",
       "#sk-container-id-1 label.sk-toggleable__label {\n",
       "  cursor: pointer;\n",
       "  display: flex;\n",
       "  width: 100%;\n",
       "  margin-bottom: 0;\n",
       "  padding: 0.5em;\n",
       "  box-sizing: border-box;\n",
       "  text-align: center;\n",
       "  align-items: start;\n",
       "  justify-content: space-between;\n",
       "  gap: 0.5em;\n",
       "}\n",
       "\n",
       "#sk-container-id-1 label.sk-toggleable__label .caption {\n",
       "  font-size: 0.6rem;\n",
       "  font-weight: lighter;\n",
       "  color: var(--sklearn-color-text-muted);\n",
       "}\n",
       "\n",
       "#sk-container-id-1 label.sk-toggleable__label-arrow:before {\n",
       "  /* Arrow on the left of the label */\n",
       "  content: \"▸\";\n",
       "  float: left;\n",
       "  margin-right: 0.25em;\n",
       "  color: var(--sklearn-color-icon);\n",
       "}\n",
       "\n",
       "#sk-container-id-1 label.sk-toggleable__label-arrow:hover:before {\n",
       "  color: var(--sklearn-color-text);\n",
       "}\n",
       "\n",
       "/* Toggleable content - dropdown */\n",
       "\n",
       "#sk-container-id-1 div.sk-toggleable__content {\n",
       "  max-height: 0;\n",
       "  max-width: 0;\n",
       "  overflow: hidden;\n",
       "  text-align: left;\n",
       "  /* unfitted */\n",
       "  background-color: var(--sklearn-color-unfitted-level-0);\n",
       "}\n",
       "\n",
       "#sk-container-id-1 div.sk-toggleable__content.fitted {\n",
       "  /* fitted */\n",
       "  background-color: var(--sklearn-color-fitted-level-0);\n",
       "}\n",
       "\n",
       "#sk-container-id-1 div.sk-toggleable__content pre {\n",
       "  margin: 0.2em;\n",
       "  border-radius: 0.25em;\n",
       "  color: var(--sklearn-color-text);\n",
       "  /* unfitted */\n",
       "  background-color: var(--sklearn-color-unfitted-level-0);\n",
       "}\n",
       "\n",
       "#sk-container-id-1 div.sk-toggleable__content.fitted pre {\n",
       "  /* unfitted */\n",
       "  background-color: var(--sklearn-color-fitted-level-0);\n",
       "}\n",
       "\n",
       "#sk-container-id-1 input.sk-toggleable__control:checked~div.sk-toggleable__content {\n",
       "  /* Expand drop-down */\n",
       "  max-height: 200px;\n",
       "  max-width: 100%;\n",
       "  overflow: auto;\n",
       "}\n",
       "\n",
       "#sk-container-id-1 input.sk-toggleable__control:checked~label.sk-toggleable__label-arrow:before {\n",
       "  content: \"▾\";\n",
       "}\n",
       "\n",
       "/* Pipeline/ColumnTransformer-specific style */\n",
       "\n",
       "#sk-container-id-1 div.sk-label input.sk-toggleable__control:checked~label.sk-toggleable__label {\n",
       "  color: var(--sklearn-color-text);\n",
       "  background-color: var(--sklearn-color-unfitted-level-2);\n",
       "}\n",
       "\n",
       "#sk-container-id-1 div.sk-label.fitted input.sk-toggleable__control:checked~label.sk-toggleable__label {\n",
       "  background-color: var(--sklearn-color-fitted-level-2);\n",
       "}\n",
       "\n",
       "/* Estimator-specific style */\n",
       "\n",
       "/* Colorize estimator box */\n",
       "#sk-container-id-1 div.sk-estimator input.sk-toggleable__control:checked~label.sk-toggleable__label {\n",
       "  /* unfitted */\n",
       "  background-color: var(--sklearn-color-unfitted-level-2);\n",
       "}\n",
       "\n",
       "#sk-container-id-1 div.sk-estimator.fitted input.sk-toggleable__control:checked~label.sk-toggleable__label {\n",
       "  /* fitted */\n",
       "  background-color: var(--sklearn-color-fitted-level-2);\n",
       "}\n",
       "\n",
       "#sk-container-id-1 div.sk-label label.sk-toggleable__label,\n",
       "#sk-container-id-1 div.sk-label label {\n",
       "  /* The background is the default theme color */\n",
       "  color: var(--sklearn-color-text-on-default-background);\n",
       "}\n",
       "\n",
       "/* On hover, darken the color of the background */\n",
       "#sk-container-id-1 div.sk-label:hover label.sk-toggleable__label {\n",
       "  color: var(--sklearn-color-text);\n",
       "  background-color: var(--sklearn-color-unfitted-level-2);\n",
       "}\n",
       "\n",
       "/* Label box, darken color on hover, fitted */\n",
       "#sk-container-id-1 div.sk-label.fitted:hover label.sk-toggleable__label.fitted {\n",
       "  color: var(--sklearn-color-text);\n",
       "  background-color: var(--sklearn-color-fitted-level-2);\n",
       "}\n",
       "\n",
       "/* Estimator label */\n",
       "\n",
       "#sk-container-id-1 div.sk-label label {\n",
       "  font-family: monospace;\n",
       "  font-weight: bold;\n",
       "  display: inline-block;\n",
       "  line-height: 1.2em;\n",
       "}\n",
       "\n",
       "#sk-container-id-1 div.sk-label-container {\n",
       "  text-align: center;\n",
       "}\n",
       "\n",
       "/* Estimator-specific */\n",
       "#sk-container-id-1 div.sk-estimator {\n",
       "  font-family: monospace;\n",
       "  border: 1px dotted var(--sklearn-color-border-box);\n",
       "  border-radius: 0.25em;\n",
       "  box-sizing: border-box;\n",
       "  margin-bottom: 0.5em;\n",
       "  /* unfitted */\n",
       "  background-color: var(--sklearn-color-unfitted-level-0);\n",
       "}\n",
       "\n",
       "#sk-container-id-1 div.sk-estimator.fitted {\n",
       "  /* fitted */\n",
       "  background-color: var(--sklearn-color-fitted-level-0);\n",
       "}\n",
       "\n",
       "/* on hover */\n",
       "#sk-container-id-1 div.sk-estimator:hover {\n",
       "  /* unfitted */\n",
       "  background-color: var(--sklearn-color-unfitted-level-2);\n",
       "}\n",
       "\n",
       "#sk-container-id-1 div.sk-estimator.fitted:hover {\n",
       "  /* fitted */\n",
       "  background-color: var(--sklearn-color-fitted-level-2);\n",
       "}\n",
       "\n",
       "/* Specification for estimator info (e.g. \"i\" and \"?\") */\n",
       "\n",
       "/* Common style for \"i\" and \"?\" */\n",
       "\n",
       ".sk-estimator-doc-link,\n",
       "a:link.sk-estimator-doc-link,\n",
       "a:visited.sk-estimator-doc-link {\n",
       "  float: right;\n",
       "  font-size: smaller;\n",
       "  line-height: 1em;\n",
       "  font-family: monospace;\n",
       "  background-color: var(--sklearn-color-background);\n",
       "  border-radius: 1em;\n",
       "  height: 1em;\n",
       "  width: 1em;\n",
       "  text-decoration: none !important;\n",
       "  margin-left: 0.5em;\n",
       "  text-align: center;\n",
       "  /* unfitted */\n",
       "  border: var(--sklearn-color-unfitted-level-1) 1pt solid;\n",
       "  color: var(--sklearn-color-unfitted-level-1);\n",
       "}\n",
       "\n",
       ".sk-estimator-doc-link.fitted,\n",
       "a:link.sk-estimator-doc-link.fitted,\n",
       "a:visited.sk-estimator-doc-link.fitted {\n",
       "  /* fitted */\n",
       "  border: var(--sklearn-color-fitted-level-1) 1pt solid;\n",
       "  color: var(--sklearn-color-fitted-level-1);\n",
       "}\n",
       "\n",
       "/* On hover */\n",
       "div.sk-estimator:hover .sk-estimator-doc-link:hover,\n",
       ".sk-estimator-doc-link:hover,\n",
       "div.sk-label-container:hover .sk-estimator-doc-link:hover,\n",
       ".sk-estimator-doc-link:hover {\n",
       "  /* unfitted */\n",
       "  background-color: var(--sklearn-color-unfitted-level-3);\n",
       "  color: var(--sklearn-color-background);\n",
       "  text-decoration: none;\n",
       "}\n",
       "\n",
       "div.sk-estimator.fitted:hover .sk-estimator-doc-link.fitted:hover,\n",
       ".sk-estimator-doc-link.fitted:hover,\n",
       "div.sk-label-container:hover .sk-estimator-doc-link.fitted:hover,\n",
       ".sk-estimator-doc-link.fitted:hover {\n",
       "  /* fitted */\n",
       "  background-color: var(--sklearn-color-fitted-level-3);\n",
       "  color: var(--sklearn-color-background);\n",
       "  text-decoration: none;\n",
       "}\n",
       "\n",
       "/* Span, style for the box shown on hovering the info icon */\n",
       ".sk-estimator-doc-link span {\n",
       "  display: none;\n",
       "  z-index: 9999;\n",
       "  position: relative;\n",
       "  font-weight: normal;\n",
       "  right: .2ex;\n",
       "  padding: .5ex;\n",
       "  margin: .5ex;\n",
       "  width: min-content;\n",
       "  min-width: 20ex;\n",
       "  max-width: 50ex;\n",
       "  color: var(--sklearn-color-text);\n",
       "  box-shadow: 2pt 2pt 4pt #999;\n",
       "  /* unfitted */\n",
       "  background: var(--sklearn-color-unfitted-level-0);\n",
       "  border: .5pt solid var(--sklearn-color-unfitted-level-3);\n",
       "}\n",
       "\n",
       ".sk-estimator-doc-link.fitted span {\n",
       "  /* fitted */\n",
       "  background: var(--sklearn-color-fitted-level-0);\n",
       "  border: var(--sklearn-color-fitted-level-3);\n",
       "}\n",
       "\n",
       ".sk-estimator-doc-link:hover span {\n",
       "  display: block;\n",
       "}\n",
       "\n",
       "/* \"?\"-specific style due to the `<a>` HTML tag */\n",
       "\n",
       "#sk-container-id-1 a.estimator_doc_link {\n",
       "  float: right;\n",
       "  font-size: 1rem;\n",
       "  line-height: 1em;\n",
       "  font-family: monospace;\n",
       "  background-color: var(--sklearn-color-background);\n",
       "  border-radius: 1rem;\n",
       "  height: 1rem;\n",
       "  width: 1rem;\n",
       "  text-decoration: none;\n",
       "  /* unfitted */\n",
       "  color: var(--sklearn-color-unfitted-level-1);\n",
       "  border: var(--sklearn-color-unfitted-level-1) 1pt solid;\n",
       "}\n",
       "\n",
       "#sk-container-id-1 a.estimator_doc_link.fitted {\n",
       "  /* fitted */\n",
       "  border: var(--sklearn-color-fitted-level-1) 1pt solid;\n",
       "  color: var(--sklearn-color-fitted-level-1);\n",
       "}\n",
       "\n",
       "/* On hover */\n",
       "#sk-container-id-1 a.estimator_doc_link:hover {\n",
       "  /* unfitted */\n",
       "  background-color: var(--sklearn-color-unfitted-level-3);\n",
       "  color: var(--sklearn-color-background);\n",
       "  text-decoration: none;\n",
       "}\n",
       "\n",
       "#sk-container-id-1 a.estimator_doc_link.fitted:hover {\n",
       "  /* fitted */\n",
       "  background-color: var(--sklearn-color-fitted-level-3);\n",
       "}\n",
       "</style><div id=\"sk-container-id-1\" class=\"sk-top-container\"><div class=\"sk-text-repr-fallback\"><pre>RandomForestClassifier(random_state=42)</pre><b>In a Jupyter environment, please rerun this cell to show the HTML representation or trust the notebook. <br />On GitHub, the HTML representation is unable to render, please try loading this page with nbviewer.org.</b></div><div class=\"sk-container\" hidden><div class=\"sk-item\"><div class=\"sk-estimator fitted sk-toggleable\"><input class=\"sk-toggleable__control sk-hidden--visually\" id=\"sk-estimator-id-1\" type=\"checkbox\" checked><label for=\"sk-estimator-id-1\" class=\"sk-toggleable__label fitted sk-toggleable__label-arrow\"><div><div>RandomForestClassifier</div></div><div><a class=\"sk-estimator-doc-link fitted\" rel=\"noreferrer\" target=\"_blank\" href=\"https://scikit-learn.org/1.6/modules/generated/sklearn.ensemble.RandomForestClassifier.html\">?<span>Documentation for RandomForestClassifier</span></a><span class=\"sk-estimator-doc-link fitted\">i<span>Fitted</span></span></div></label><div class=\"sk-toggleable__content fitted\"><pre>RandomForestClassifier(random_state=42)</pre></div> </div></div></div></div>"
      ],
      "text/plain": [
       "RandomForestClassifier(random_state=42)"
      ]
     },
     "execution_count": 77,
     "metadata": {},
     "output_type": "execute_result"
    }
   ],
   "source": [
    "# Train Random Forest for SHAP analysis\n",
    "rf_model = RandomForestClassifier(n_estimators=100, random_state=42)\n",
    "rf_model.fit(X_train_smote, y_train_smote)"
   ]
  },
  {
   "cell_type": "code",
   "execution_count": 78,
   "id": "4837552e",
   "metadata": {},
   "outputs": [],
   "source": [
    "# Create SHAP explainer\n",
    "explainer = shap.TreeExplainer(rf_model)\n",
    "shap_values = explainer.shap_values(X_shap_sample)"
   ]
  },
  {
   "cell_type": "code",
   "execution_count": 79,
   "id": "cc7da93d",
   "metadata": {},
   "outputs": [],
   "source": [
    "# For binary classification, use positive class SHAP values\n",
    "if isinstance(shap_values, list):\n",
    "    shap_values_positive = shap_values[1]  # Positive class (stroke = 1)\n",
    "else:\n",
    "    shap_values_positive = shap_values"
   ]
  },
  {
   "cell_type": "code",
   "execution_count": 80,
   "id": "8ee9a4e9",
   "metadata": {},
   "outputs": [
    {
     "data": {
      "text/plain": [
       "<Figure size 1200x800 with 0 Axes>"
      ]
     },
     "metadata": {},
     "output_type": "display_data"
    },
    {
     "data": {
      "image/png": "[encoded data removed]",
      "text/plain": [
       "<Figure size 2350x1300 with 2 Axes>"
      ]
     },
     "metadata": {},
     "output_type": "display_data"
    }
   ],
   "source": [
    "# SHAP Summary Plot\n",
    "plt.figure(figsize=(12, 8))\n",
    "shap.summary_plot(shap_values_positive, X_shap_sample, max_display=15, show=False)\n",
    "plt.title('SHAP Feature Importance Summary')\n",
    "plt.tight_layout()\n",
    "plt.show()"
   ]
  },
  {
   "cell_type": "code",
   "execution_count": 81,
   "id": "0319fd52",
   "metadata": {},
   "outputs": [
    {
     "data": {
      "text/plain": [
       "<Figure size 1200x800 with 0 Axes>"
      ]
     },
     "metadata": {},
     "output_type": "display_data"
    },
    {
     "data": {
      "image/png": "[encoded data removed]",
      "text/plain": [
       "<Figure size 2350x1300 with 2 Axes>"
      ]
     },
     "metadata": {},
     "output_type": "display_data"
    }
   ],
   "source": [
    "# SHAP Bar Plot\n",
    "plt.figure(figsize=(12, 8))\n",
    "shap.summary_plot(shap_values_positive, X_shap_sample, plot_type=\"bar\", max_display=15, show=False)\n",
    "plt.title('SHAP Feature Importance (Mean |SHAP Value|)')\n",
    "plt.tight_layout()\n",
    "plt.show()"
   ]
  },
  {
   "cell_type": "code",
   "execution_count": 83,
   "id": "692320e5",
   "metadata": {},
   "outputs": [],
   "source": [
    "# Calculate mean absolute SHAP values for ranking\n",
    "# If mean_abs_shap is 2D, select the positive class (second column)\n",
    "mean_abs_shap = np.abs(shap_values_positive).mean(axis=0)\n",
    "if mean_abs_shap.ndim == 2 and mean_abs_shap.shape[1] == 2:\n",
    "    mean_abs_shap = mean_abs_shap[:, 1]  # Use positive class\n",
    "\n",
    "feature_names = X_processed.columns\n",
    "shap_importance = pd.DataFrame({\n",
    "    'feature': feature_names,\n",
    "    'mean_abs_shap': mean_abs_shap\n",
    "}).sort_values('mean_abs_shap', ascending=False)"
   ]
  },
  {
   "cell_type": "code",
   "execution_count": 84,
   "id": "2f6007fe",
   "metadata": {},
   "outputs": [
    {
     "name": "stdout",
     "output_type": "stream",
     "text": [
      "Top 15 features by SHAP importance:\n",
      "                           feature  mean_abs_shap\n",
      "0                              age       0.098990\n",
      "23               age_group_Elderly       0.057086\n",
      "25                age_group_Senior       0.049198\n",
      "13               work_type_Private       0.028187\n",
      "20     smoking_status_never smoked       0.022103\n",
      "19  smoking_status_formerly smoked       0.021835\n",
      "26           age_group_Young Adult       0.021392\n",
      "14         work_type_Self-employed       0.019074\n",
      "10                ever_married_Yes       0.017997\n",
      "9                  ever_married_No       0.017725\n",
      "5                health_risk_score       0.017294\n",
      "16            Residence_type_Rural       0.017003\n",
      "17            Residence_type_Urban       0.016663\n",
      "18          smoking_status_Unknown       0.015125\n",
      "24           age_group_Middle-aged       0.014658\n"
     ]
    }
   ],
   "source": [
    "print(\"Top 15 features by SHAP importance:\")\n",
    "print(shap_importance.head(15))"
   ]
  },
  {
   "cell_type": "markdown",
   "id": "5c1900b9",
   "metadata": {},
   "source": [
    "# 13. Summary and Recommendations"
   ]
  },
  {
   "cell_type": "code",
   "execution_count": 85,
   "id": "e0b80c8e",
   "metadata": {},
   "outputs": [
    {
     "name": "stdout",
     "output_type": "stream",
     "text": [
      "\n",
      "==================================================\n",
      "DATA PREPROCESSING SUMMARY\n",
      "==================================================\n"
     ]
    }
   ],
   "source": [
    "print(\"\\n\" + \"=\"*50)\n",
    "print(\"DATA PREPROCESSING SUMMARY\")\n",
    "print(\"=\"*50)"
   ]
  },
  {
   "cell_type": "code",
   "execution_count": 87,
   "id": "82ed3dc4",
   "metadata": {},
   "outputs": [
    {
     "name": "stdout",
     "output_type": "stream",
     "text": [
      "\n",
      "Original Dataset:\n",
      "- Shape: (5110, 12)\n",
      "- Missing BMI values: 201 (3.93%)\n",
      "- Class imbalance: 19.52:1 (4.87% positive class)\n",
      "\n",
      "Data Cleaning:\n",
      "- Imputed BMI using KNN imputation\n",
      "- Created engineered features: age_group, bmi_category, glucose_category, health_risk_score\n",
      "- One-hot encoded categorical variables\n",
      "- Standardized numerical features\n",
      "\n",
      "Final Processed Dataset:\n",
      "- Shape: (5110, 34)\n",
      "- Features after encoding: 34\n",
      "\n",
      "Class Imbalance Handling:\n",
      "- Applied SMOTE, ADASYN, SMOTETomek, and UnderSampling\n",
      "- SMOTE recommended for initial modeling\n",
      "\n",
      "PCA Analysis:\n",
      "- 15 components explain 95% of variance\n",
      "- Dimensionality reduction from 34 to 15 features\n",
      "\n",
      "Key Findings:\n",
      "\n"
     ]
    }
   ],
   "source": [
    "print(f\"\"\"\n",
    "Original Dataset:\n",
    "- Shape: {df.shape}\n",
    "- Missing BMI values: 201 (3.93%)\n",
    "- Class imbalance: 19.52:1 (4.87% positive class)\n",
    "\n",
    "Data Cleaning:\n",
    "- Imputed BMI using KNN imputation\n",
    "- Created engineered features: age_group, bmi_category, glucose_category, health_risk_score\n",
    "- One-hot encoded categorical variables\n",
    "- Standardized numerical features\n",
    "\n",
    "Final Processed Dataset:\n",
    "- Shape: {X_processed.shape}\n",
    "- Features after encoding: {X_processed.shape[1]}\n",
    "\n",
    "Class Imbalance Handling:\n",
    "- Applied SMOTE, ADASYN, SMOTETomek, and UnderSampling\n",
    "- SMOTE recommended for initial modeling\n",
    "\n",
    "PCA Analysis:\n",
    "- {n_components_95} components explain 95% of variance\n",
    "- Dimensionality reduction from {X_processed.shape[1]} to {n_components_95} features\n",
    "\n",
    "Key Findings:\n",
    "\"\"\")"
   ]
  },
  {
   "cell_type": "code",
   "execution_count": 88,
   "id": "2aefd40e",
   "metadata": {},
   "outputs": [
    {
     "name": "stdout",
     "output_type": "stream",
     "text": [
      "Top 5 Most Important Features (Random Forest):\n",
      "  1. age: 0.2026\n",
      "  26. age_group_Senior: 0.0716\n",
      "  24. age_group_Elderly: 0.0666\n",
      "  4. avg_glucose_level: 0.0542\n",
      "  5. bmi: 0.0488\n"
     ]
    }
   ],
   "source": [
    "print(\"Top 5 Most Important Features (Random Forest):\")\n",
    "if 'Random Forest' in feature_importance_results:\n",
    "    for i, row in feature_importance_results['Random Forest'].head(5).iterrows():\n",
    "        print(f\"  {i+1}. {row['feature']}: {row['importance']:.4f}\")"
   ]
  },
  {
   "cell_type": "code",
   "execution_count": 89,
   "id": "22c1acda",
   "metadata": {},
   "outputs": [
    {
     "name": "stdout",
     "output_type": "stream",
     "text": [
      "\n",
      "Top 5 Most Important Features (SHAP):\n",
      "  1. age: 0.0990\n",
      "  2. age_group_Elderly: 0.0571\n",
      "  3. age_group_Senior: 0.0492\n",
      "  4. work_type_Private: 0.0282\n",
      "  5. smoking_status_never smoked: 0.0221\n"
     ]
    }
   ],
   "source": [
    "print(\"\\nTop 5 Most Important Features (SHAP):\")\n",
    "for i, (_, row) in enumerate(shap_importance.head(5).iterrows()):\n",
    "    print(f\"  {i+1}. {row['feature']}: {row['mean_abs_shap']:.4f}\")"
   ]
  },
  {
   "cell_type": "code",
   "execution_count": null,
   "id": "a3717e8d",
   "metadata": {},
   "outputs": [],
   "source": [
    "print(f\"\"\"\n",
    "Recommendations for Model Building:\n",
    "1. Use SMOTE-resampled data for training\n",
    "2. Consider both original features and PCA-transformed features\n",
    "3. Focus on top features identified by SHAP analysis\n",
    "4. Use stratified cross-validation due to class imbalance\n",
    "5. Consider ensemble methods given feature diversity\n",
    "6. Monitor for overfitting due to class imbalance\n",
    "\n",
    "Next Steps:\n",
    "1. Experiment with different algorithms using MLflow\n",
    "2. Tune hyperparameters for optimal performance  \n",
    "3. Evaluate models using appropriate metrics (ROC-AUC, Precision-Recall)\n",
    "4. Implement proper cross-validation strategy\n",
    "\"\"\")"
   ]
  },
  {
   "cell_type": "code",
   "execution_count": 90,
   "id": "08689768",
   "metadata": {},
   "outputs": [
    {
     "name": "stdout",
     "output_type": "stream",
     "text": [
      "\n",
      "Saving processed datasets...\n"
     ]
    }
   ],
   "source": [
    "# Save processed data for model building\n",
    "print(\"\\nSaving processed datasets...\")"
   ]
  },
  {
   "cell_type": "code",
   "execution_count": 91,
   "id": "cd41e576",
   "metadata": {},
   "outputs": [],
   "source": [
    "# Save different versions for experimentation\n",
    "datasets_to_save = {\n",
    "    'original_processed': (X_processed, y),\n",
    "    'smote_resampled': (X_train_smote, y_train_smote),\n",
    "    'pca_transformed': (pd.DataFrame(X_train_pca_optimal), y_train_smote),\n",
    "    'test_set': (X_test, y_test)\n",
    "}"
   ]
  },
  {
   "cell_type": "code",
   "execution_count": 92,
   "id": "a56de031",
   "metadata": {},
   "outputs": [],
   "source": [
    "for name, (X_data, y_data) in datasets_to_save.items():\n",
    "    X_data.to_csv(f'X_{name}.csv', index=False)\n",
    "    pd.Series(y_data).to_csv(f'y_{name}.csv', index=False)"
   ]
  },
  {
   "cell_type": "code",
   "execution_count": 93,
   "id": "5cca356a",
   "metadata": {},
   "outputs": [
    {
     "name": "stdout",
     "output_type": "stream",
     "text": [
      "All datasets saved successfully!\n",
      "\n",
      "Notebook execution completed!\n"
     ]
    }
   ],
   "source": [
    "print(\"All datasets saved successfully!\")\n",
    "print(\"\\nNotebook execution completed!\")"
   ]
  }
 ],
 "metadata": {
  "jupytext": {
   "cell_metadata_filter": "-all",
   "formats": "ipynb,py",
   "main_language": "python"
  },
  "kernelspec": {
   "display_name": "dsi_env",
   "language": "python",
   "name": "python3"
  },
  "language_info": {
   "codemirror_mode": {
    "name": "ipython",
    "version": 3
   },
   "file_extension": ".py",
   "mimetype": "text/x-python",
   "name": "python",
   "nbconvert_exporter": "python",
   "pygments_lexer": "ipython3",
   "version": "3.9.12"
  }
 },
 "nbformat": 4,
 "nbformat_minor": 5
}
